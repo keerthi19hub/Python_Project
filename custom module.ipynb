{
 "cells": [
  {
   "cell_type": "code",
   "execution_count": 5,
   "id": "933f9613-79ae-4dfd-ba86-02ff45421a9b",
   "metadata": {},
   "outputs": [
    {
     "data": {
      "text/plain": [
       "14"
      ]
     },
     "execution_count": 5,
     "metadata": {},
     "output_type": "execute_result"
    }
   ],
   "source": [
    "import calc_function\n",
    "calc_function.sum(9,5)"
   ]
  },
  {
   "cell_type": "code",
   "execution_count": 3,
   "id": "d0dd40a5-7947-4cca-a343-7270a9587c8d",
   "metadata": {},
   "outputs": [
    {
     "data": {
      "text/plain": [
       "4"
      ]
     },
     "execution_count": 3,
     "metadata": {},
     "output_type": "execute_result"
    }
   ],
   "source": [
    "import calc_function\n",
    "calc_function.sub(9,5)"
   ]
  },
  {
   "cell_type": "code",
   "execution_count": 7,
   "id": "b34c9989-57c6-45b4-add2-0f5170dcb606",
   "metadata": {},
   "outputs": [
    {
     "data": {
      "text/plain": [
       "45"
      ]
     },
     "execution_count": 7,
     "metadata": {},
     "output_type": "execute_result"
    }
   ],
   "source": [
    "import calc_function\n",
    "calc_function.product(9,5)"
   ]
  },
  {
   "cell_type": "code",
   "execution_count": 9,
   "id": "d01dac24-c86d-465f-9149-8c9be71b35e0",
   "metadata": {},
   "outputs": [
    {
     "data": {
      "text/plain": [
       "1.8"
      ]
     },
     "execution_count": 9,
     "metadata": {},
     "output_type": "execute_result"
    }
   ],
   "source": [
    "import calc_function\n",
    "calc_function.division(9,5)"
   ]
  },
  {
   "cell_type": "code",
   "execution_count": 11,
   "id": "7e4f5e8d-8c4d-4c9d-b429-749d5c9cd9bb",
   "metadata": {},
   "outputs": [
    {
     "data": {
      "text/plain": [
       "120"
      ]
     },
     "execution_count": 11,
     "metadata": {},
     "output_type": "execute_result"
    }
   ],
   "source": [
    "import calc_function\n",
    "calc_function.factor(5)"
   ]
  },
  {
   "cell_type": "code",
   "execution_count": 17,
   "id": "0d0c03af-1792-4c2e-935a-62a8a168a3f1",
   "metadata": {},
   "outputs": [
    {
     "name": "stdout",
     "output_type": "stream",
     "text": [
      "prime\n"
     ]
    }
   ],
   "source": [
    "import calc_function\n",
    "calc_function.abc(5)"
   ]
  },
  {
   "cell_type": "code",
   "execution_count": null,
   "id": "5fa9391a-67ee-4eac-8026-5ddc8e14576b",
   "metadata": {},
   "outputs": [],
   "source": []
  }
 ],
 "metadata": {
  "kernelspec": {
   "display_name": "Python 3 (ipykernel)",
   "language": "python",
   "name": "python3"
  },
  "language_info": {
   "codemirror_mode": {
    "name": "ipython",
    "version": 3
   },
   "file_extension": ".py",
   "mimetype": "text/x-python",
   "name": "python",
   "nbconvert_exporter": "python",
   "pygments_lexer": "ipython3",
   "version": "3.12.4"
  }
 },
 "nbformat": 4,
 "nbformat_minor": 5
}
